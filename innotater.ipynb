{
 "cells": [
  {
   "cell_type": "code",
   "execution_count": 1,
   "metadata": {},
   "outputs": [],
   "source": [
    "from jupyter_innotater import *\n",
    "import numpy as np, os\n"
   ]
  },
  {
   "cell_type": "code",
   "execution_count": 15,
   "metadata": {},
   "outputs": [
    {
     "data": {
      "application/vnd.jupyter.widget-view+json": {
       "model_id": "ec86079c7106473f96666c6d464b92d9",
       "version_major": 2,
       "version_minor": 0
      },
      "text/plain": [
       "Innotater(children=(HBox(children=(VBox(children=(ImagePad(value=b'\\xff\\xd8\\xff\\xe0\\x00\\x10JFIF\\x00\\x01\\x01\\x0…"
      ]
     },
     "metadata": {},
     "output_type": "display_data"
    }
   ],
   "source": [
    "# get images\n",
    "# need to change the directory\n",
    "\n",
    "images = sorted(os.listdir('./train/test'))\n",
    "\n",
    "# number of labels (repeating labeling)\n",
    "repeats = 6\n",
    "\n",
    "targets_exclude = np.zeros((len(images), 1), dtype='int') # Binary flag to indicate want to exclude from dataset\n",
    "\n",
    "# make objects to label\n",
    "joints = ['LF-mtp-ip', 'LF-mtp-1', 'LF-mtp-2', 'LF-mtp-3', 'LF-mtp-4', 'LF-mtp-5']\n",
    "\n",
    "# It's empty datasets here as a demo but should be pre-labeled dataset in the real trial\n",
    "targets_joint = np.zeros((len(images), len(joints)), dtype='int')\n",
    "targets_bboxes = np.zeros((len(images), repeats, 4), dtype='int') # (x,y,w,h) for each joint\n",
    "\n",
    "Innotater(\n",
    "    [\n",
    "        ImageInnotation(images, path='./train/test', width=1275, height=1600), # Display the image itself\n",
    "        TextInnotation(images, multiline=False) # Display the image filename\n",
    "    ],\n",
    "    [\n",
    "        BinaryClassInnotation(targets_exclude, name='Exclude'), # Checkbox\n",
    "        RepeatInnotation(\n",
    "            (BoundingBoxInnotation, targets_bboxes), # Individual joint bounding box\n",
    "            (MultiClassInnotation, targets_joint,\n",
    "                {'name':'Joint', 'classes':joints, 'dropdown':True}), # Per image joint dropdown\n",
    "            max_repeats=repeats, min_repeats=1\n",
    "        )\n",
    "    ]\n",
    ")"
   ]
  },
  {
   "cell_type": "code",
   "execution_count": 17,
   "metadata": {},
   "outputs": [
    {
     "data": {
      "text/plain": [
       "array([[[720, 198, 211, 188],\n",
       "        [747, 489, 264, 212],\n",
       "        [601, 464, 161, 172],\n",
       "        [498, 516, 133, 147],\n",
       "        [377, 580, 138, 172],\n",
       "        [223, 695, 159, 171]],\n",
       "\n",
       "       [[224, 537, 112, 105],\n",
       "        [319, 475, 142, 145],\n",
       "        [588, 484, 166, 154],\n",
       "        [328, 479, 128, 122],\n",
       "        [229, 538, 107, 101],\n",
       "        [436, 452, 122, 125]],\n",
       "\n",
       "       [[  0,   0,   0,   0],\n",
       "        [  0,   0,   0,   0],\n",
       "        [  0,   0,   0,   0],\n",
       "        [  0,   0,   0,   0],\n",
       "        [  0,   0,   0,   0],\n",
       "        [  0,   0,   0,   0]]])"
      ]
     },
     "execution_count": 17,
     "metadata": {},
     "output_type": "execute_result"
    }
   ],
   "source": [
    "# primary labeling : this will be done my trained model in real trial\n",
    "targets_bboxes"
   ]
  },
  {
   "cell_type": "code",
   "execution_count": 18,
   "metadata": {},
   "outputs": [
    {
     "name": "stdout",
     "output_type": "stream",
     "text": [
      "[[[720 198 211 188]\n",
      "  [747 489 264 212]\n",
      "  [601 464 161 172]\n",
      "  [498 516 133 147]\n",
      "  [377 580 138 172]\n",
      "  [223 695 159 171]]\n",
      "\n",
      " [[224 537 112 105]\n",
      "  [319 475 142 145]\n",
      "  [588 484 166 154]\n",
      "  [328 479 128 122]\n",
      "  [229 538 107 101]\n",
      "  [436 452 122 125]]\n",
      "\n",
      " [[  0   0   0   0]\n",
      "  [  0   0   0   0]\n",
      "  [  0   0   0   0]\n",
      "  [  0   0   0   0]\n",
      "  [  0   0   0   0]\n",
      "  [  0   0   0   0]]]\n"
     ]
    }
   ],
   "source": [
    "# primitive labels as existing labels\n",
    "existing_boxes = targets_bboxes\n",
    "print(existing_boxes)"
   ]
  },
  {
   "cell_type": "code",
   "execution_count": 21,
   "metadata": {},
   "outputs": [
    {
     "data": {
      "text/plain": [
       "array([[0, 1, 2, 3, 4, 5],\n",
       "       [0, 1, 2, 3, 4, 5],\n",
       "       [0, 0, 0, 0, 0, 0]])"
      ]
     },
     "execution_count": 21,
     "metadata": {},
     "output_type": "execute_result"
    }
   ],
   "source": [
    "existing_joint = targets_joint\n",
    "existing_joint"
   ]
  },
  {
   "cell_type": "code",
   "execution_count": null,
   "metadata": {},
   "outputs": [],
   "source": []
  },
  {
   "cell_type": "code",
   "execution_count": 23,
   "metadata": {},
   "outputs": [
    {
     "data": {
      "application/vnd.jupyter.widget-view+json": {
       "model_id": "3d4dbd185ed14831865d19ec5bd7ddea",
       "version_major": 2,
       "version_minor": 0
      },
      "text/plain": [
       "Innotater(children=(HBox(children=(VBox(children=(ImagePad(value=b'\\xff\\xd8\\xff\\xe0\\x00\\x10JFIF\\x00\\x01\\x01\\x0…"
      ]
     },
     "metadata": {},
     "output_type": "display_data"
    }
   ],
   "source": [
    "# Now start adjusting\n",
    "\n",
    "images = sorted(os.listdir('./train/test'))\n",
    "\n",
    "repeats = 6\n",
    "\n",
    "targets_exclude = np.zeros((len(images), 1), dtype='int') # Binary flag to indicate want to exclude from dataset\n",
    "\n",
    "joints = ['LF-mtp-ip', 'LF-mtp-1', 'LF-mtp-2', 'LF-mtp-3', 'LF-mtp-4', 'LF-mtp-5']\n",
    "\n",
    "# Now inputs are existing labels\n",
    "targets_joint = existing_joint\n",
    "targets_bboxes = existing_boxes # (x,y,w,h) for each joint\n",
    "\n",
    "# adjust the labels by running below code & manually re-draw the box\n",
    "Innotater(\n",
    "    [\n",
    "        ImageInnotation(images, path='./train/test', width=1275, height=1600), # Display the image itself\n",
    "        TextInnotation(images, multiline=False) # Display the image filename\n",
    "    ],\n",
    "    [\n",
    "        BinaryClassInnotation(targets_exclude, name='Exclude'), # Checkbox\n",
    "        RepeatInnotation(\n",
    "            (BoundingBoxInnotation, targets_bboxes), # Individual joint bounding box\n",
    "            (MultiClassInnotation, targets_joint,\n",
    "                {'name':'Joint', 'classes':joints, 'dropdown':True}), # Per image joint dropdown\n",
    "            max_repeats=repeats, min_repeats=1\n",
    "        )\n",
    "    ]\n",
    ")"
   ]
  },
  {
   "cell_type": "code",
   "execution_count": 26,
   "metadata": {},
   "outputs": [
    {
     "data": {
      "text/plain": [
       "array([[[719, 190, 216, 203],\n",
       "        [746, 478, 236, 226],\n",
       "        [601, 464, 161, 172],\n",
       "        [498, 516, 133, 147],\n",
       "        [377, 580, 138, 172],\n",
       "        [223, 695, 159, 171]],\n",
       "\n",
       "       [[224, 537, 112, 105],\n",
       "        [319, 475, 142, 145],\n",
       "        [588, 484, 166, 154],\n",
       "        [328, 479, 128, 122],\n",
       "        [229, 538, 107, 101],\n",
       "        [436, 452, 122, 125]],\n",
       "\n",
       "       [[  0,   0,   0,   0],\n",
       "        [  0,   0,   0,   0],\n",
       "        [  0,   0,   0,   0],\n",
       "        [  0,   0,   0,   0],\n",
       "        [  0,   0,   0,   0],\n",
       "        [  0,   0,   0,   0]]])"
      ]
     },
     "execution_count": 26,
     "metadata": {},
     "output_type": "execute_result"
    }
   ],
   "source": [
    "# updated boxes\n",
    "\n",
    "updated_boxes = targets_bboxes\n",
    "targets_bboxes"
   ]
  },
  {
   "cell_type": "code",
   "execution_count": null,
   "metadata": {},
   "outputs": [],
   "source": []
  },
  {
   "cell_type": "code",
   "execution_count": null,
   "metadata": {},
   "outputs": [],
   "source": []
  },
  {
   "cell_type": "code",
   "execution_count": null,
   "metadata": {},
   "outputs": [],
   "source": []
  },
  {
   "cell_type": "code",
   "execution_count": null,
   "metadata": {},
   "outputs": [],
   "source": []
  },
  {
   "cell_type": "code",
   "execution_count": null,
   "metadata": {},
   "outputs": [],
   "source": []
  }
 ],
 "metadata": {
  "kernelspec": {
   "display_name": "Python 3",
   "language": "python",
   "name": "python3"
  },
  "language_info": {
   "codemirror_mode": {
    "name": "ipython",
    "version": 3
   },
   "file_extension": ".py",
   "mimetype": "text/x-python",
   "name": "python",
   "nbconvert_exporter": "python",
   "pygments_lexer": "ipython3",
   "version": "3.7.3"
  }
 },
 "nbformat": 4,
 "nbformat_minor": 2
}
